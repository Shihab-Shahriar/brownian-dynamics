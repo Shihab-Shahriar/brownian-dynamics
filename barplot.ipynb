{
 "cells": [
  {
   "cell_type": "code",
   "execution_count": 1,
   "id": "ae40e5d7-889a-4128-9a11-90ab9c61d3c6",
   "metadata": {
    "tags": []
   },
   "outputs": [],
   "source": [
    "import matplotlib.pyplot as plt\n",
    "import numpy as np\n",
    "import pandas as pd\n",
    "import re\n",
    "import seaborn as sns"
   ]
  },
  {
   "cell_type": "code",
   "execution_count": 2,
   "id": "c5e98998-6b63-4ecb-a5ae-dd1f4c6c3f69",
   "metadata": {
    "tags": []
   },
   "outputs": [],
   "source": [
    "# Define the data\n",
    "libraries = ['Curand', 'OpenRAND', \"Random123\"]\n",
    "platforms = ['V100', 'A100']\n",
    "\n",
    "# Sample performance data (replace with your own)\n",
    "performance_Curand = [4.23, 3.20]  # For Curand\n",
    "performance_OpenRAND = [2.48, 1.78]  # For OpenRAND\n",
    "performance_r123 = [2.46, 1.81]"
   ]
  },
  {
   "cell_type": "code",
   "execution_count": 10,
   "id": "f82c452f-bfc3-44df-9d4a-b12576b0af8c",
   "metadata": {
    "tags": []
   },
   "outputs": [
    {
     "name": "stderr",
     "output_type": "stream",
     "text": [
      "The PostScript backend does not support transparency; partially transparent artists will be rendered opaque.\n"
     ]
    },
    {
     "data": {
      "image/png": "[encoded data removed]",
      "text/plain": [
       "<Figure size 800x600 with 1 Axes>"
      ]
     },
     "metadata": {},
     "output_type": "display_data"
    }
   ],
   "source": [
    "# Combine your data into a DataFrame\n",
    "data_dict = {\n",
    "    'Platform': platforms * 3,  # Repeat each platform name 3 times\n",
    "    'Time (seconds)': performance_Curand + performance_r123 + performance_OpenRAND,\n",
    "    'Library': ['Curand']*len(platforms) + ['Random123']*len(platforms) + ['OpenRAND']*len(platforms)\n",
    "}\n",
    "\n",
    "df = pd.DataFrame(data_dict)\n",
    "\n",
    "# Create the plot\n",
    "plt.figure(figsize=(8, 6))\n",
    "ax = sns.barplot(x='Platform', y='Time (seconds)', hue='Library', data=df)\n",
    "\n",
    "# Add value labels\n",
    "for p in ax.patches:\n",
    "    if p.get_height()==0: continue\n",
    "    ax.annotate(\n",
    "        f'{p.get_height():.2f}', \n",
    "        (p.get_x() + p.get_width() / 2., p.get_height()), \n",
    "        ha='center', \n",
    "        va='center', \n",
    "        xytext=(0, 10), \n",
    "        textcoords='offset points'\n",
    "    )\n",
    "\n",
    "plt.xlabel('GPU')\n",
    "plt.ylabel('Time (seconds)')\n",
    "plt.legend(fontsize=14)\n",
    "plt.savefig('gpu.eps', format='eps')\n",
    "plt.show()\n"
   ]
  },
  {
   "cell_type": "code",
   "execution_count": 5,
   "id": "a0423b26-5a42-4665-af6a-eca1096f545e",
   "metadata": {
    "tags": []
   },
   "outputs": [],
   "source": [
    "# x = np.arange(len(platforms))  # the label locations\n",
    "# width = 0.20  # the width of the bars\n",
    "\n",
    "# fig, ax = plt.subplots()\n",
    "\n",
    "# # Create bars\n",
    "# rects1 = ax.bar(x, performance_Curand, width, label='Curand', color='b')\n",
    "# rects2 = ax.bar(x + width, performance_OpenRAND, width, label='OpenRAND', color='g')\n",
    "# rects3 = ax.bar(x + 2*width, performance_r123, width, label='Random123', color='r')\n",
    "\n",
    "# # Add some text for labels, title, and legend\n",
    "# ax.set_ylabel('Time (seconds)')\n",
    "# #ax.set_title('Performance comparison of OpenRAND vs Curand on GPU')\n",
    "# ax.set_xticks(x)\n",
    "# ax.set_xticklabels(platforms)\n",
    "# ax.legend(fontsize='large')\n",
    "# plt.xlabel('GPU')\n",
    "\n",
    "# # Add value labels on top of the bars\n",
    "# def add_labels(rects):\n",
    "#     for rect in rects:\n",
    "#         height = rect.get_height()\n",
    "#         ax.annotate(f'{height}',\n",
    "#                     xy=(rect.get_x() + rect.get_width() / 2, height),\n",
    "#                     xytext=(0, 3),  # 3 points vertical offset\n",
    "#                     textcoords=\"offset points\",\n",
    "#                     ha='center', va='bottom')\n",
    "\n",
    "# add_labels(rects1)\n",
    "# add_labels(rects2)\n",
    "# add_labels(rects3)\n",
    "\n",
    "# # Show the plot\n",
    "# plt.savefig(\"gpu.eps\", format='eps')\n",
    "# plt.show()\n"
   ]
  },
  {
   "cell_type": "code",
   "execution_count": null,
   "id": "9a34cd93-0620-47b7-a0fb-a4f76dbf3642",
   "metadata": {
    "tags": []
   },
   "outputs": [],
   "source": [
    "\n"
   ]
  },
  {
   "cell_type": "code",
   "execution_count": 2,
   "id": "55ee4f1f-2f2d-43be-817b-15984e53c75f",
   "metadata": {
    "tags": []
   },
   "outputs": [],
   "source": []
  },
  {
   "cell_type": "code",
   "execution_count": null,
   "id": "3194bb46-fe17-46e9-9af5-c3a125aa1bcd",
   "metadata": {},
   "outputs": [],
   "source": []
  },
  {
   "cell_type": "code",
   "execution_count": null,
   "id": "066fa640-800d-405a-964b-4da0972ae373",
   "metadata": {},
   "outputs": [],
   "source": []
  },
  {
   "cell_type": "code",
   "execution_count": null,
   "id": "0bd2cbad-ea00-4582-bf11-91324938b429",
   "metadata": {},
   "outputs": [],
   "source": [
    "\n",
    "\n",
    "\n",
    "\n",
    "\n",
    "\n",
    "\n",
    "\n",
    "\n",
    "\n",
    "\n",
    "\n",
    "\n"
   ]
  }
 ],
 "metadata": {
  "kernelspec": {
   "display_name": "Python 3 (ipykernel)",
   "language": "python",
   "name": "python3"
  },
  "language_info": {
   "codemirror_mode": {
    "name": "ipython",
    "version": 3
   },
   "file_extension": ".py",
   "mimetype": "text/x-python",
   "name": "python",
   "nbconvert_exporter": "python",
   "pygments_lexer": "ipython3",
   "version": "3.11.5"
  }
 },
 "nbformat": 4,
 "nbformat_minor": 5
}
